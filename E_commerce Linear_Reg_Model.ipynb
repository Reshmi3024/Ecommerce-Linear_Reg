{
 "cells": [
  {
   "cell_type": "code",
   "execution_count": 35,
   "id": "51ba4b62",
   "metadata": {},
   "outputs": [],
   "source": [
    "import os \n",
    "import pandas as pd\n",
    "import numpy as np\n",
    "import scipy.stats as sp\n",
    "import matplotlib.pyplot as plt\n",
    "import seaborn as sns\n"
   ]
  },
  {
   "cell_type": "markdown",
   "id": "6d855550",
   "metadata": {},
   "source": [
    "### Step_1: Converting Bussines Problem into DataScience Prob\n",
    "            "
   ]
  },
  {
   "cell_type": "markdown",
   "id": "0c8ff304",
   "metadata": {},
   "source": [
    "* Prob: How to increase yearly Amount Spent by Consumers"
   ]
  },
  {
   "cell_type": "code",
   "execution_count": 36,
   "id": "47abe612",
   "metadata": {},
   "outputs": [],
   "source": [
    "os.chdir(r\"D:\\Reshmi\\ML\\Linear Regression\")"
   ]
  },
  {
   "cell_type": "code",
   "execution_count": 37,
   "id": "37deb3af",
   "metadata": {},
   "outputs": [
    {
     "data": {
      "text/plain": [
       "['car data.csv',\n",
       " 'car_done.csv',\n",
       " 'corr.xlsx',\n",
       " 'Ecommerce.xlsx',\n",
       " 'E_commerce (1).ipynb',\n",
       " 'kc_house_data.csv',\n",
       " 'Linear Reg with SGD.ipynb',\n",
       " 'LinearRegressionCarSales.ipynb',\n",
       " 'Loan Aarushi ML.ipynb',\n",
       " 'LoansData.csv',\n",
       " 'MLModel_CarData.ipynb',\n",
       " 'outliers.xlsx',\n",
       " 'RealEstate_California.csv',\n",
       " 'RealEstate_LR.ipynb',\n",
       " 'sgdregressor.joblib',\n",
       " 'Untitled.ipynb',\n",
       " 'Untitled1.ipynb',\n",
       " 'Untitled2.ipynb']"
      ]
     },
     "execution_count": 37,
     "metadata": {},
     "output_type": "execute_result"
    }
   ],
   "source": [
    "os.listdir()"
   ]
  },
  {
   "cell_type": "code",
   "execution_count": 38,
   "id": "5b08c184",
   "metadata": {},
   "outputs": [],
   "source": [
    "df1=pd.read_excel('Ecommerce.xlsx')"
   ]
  },
  {
   "cell_type": "markdown",
   "id": "6307a98d",
   "metadata": {},
   "source": [
    "### Step_2: Data Collection"
   ]
  },
  {
   "cell_type": "markdown",
   "id": "394615c7",
   "metadata": {},
   "source": [
    "#### Original DataFrame"
   ]
  },
  {
   "cell_type": "code",
   "execution_count": 39,
   "id": "ae88cf82",
   "metadata": {},
   "outputs": [
    {
     "data": {
      "text/html": [
       "<div>\n",
       "<style scoped>\n",
       "    .dataframe tbody tr th:only-of-type {\n",
       "        vertical-align: middle;\n",
       "    }\n",
       "\n",
       "    .dataframe tbody tr th {\n",
       "        vertical-align: top;\n",
       "    }\n",
       "\n",
       "    .dataframe thead th {\n",
       "        text-align: right;\n",
       "    }\n",
       "</style>\n",
       "<table border=\"1\" class=\"dataframe\">\n",
       "  <thead>\n",
       "    <tr style=\"text-align: right;\">\n",
       "      <th></th>\n",
       "      <th>Email</th>\n",
       "      <th>Address</th>\n",
       "      <th>Avatar</th>\n",
       "      <th>Avg. Session Length</th>\n",
       "      <th>Time on App</th>\n",
       "      <th>Time on Website</th>\n",
       "      <th>Length of Membership</th>\n",
       "      <th>Yearly Amount Spent</th>\n",
       "    </tr>\n",
       "  </thead>\n",
       "  <tbody>\n",
       "    <tr>\n",
       "      <th>0</th>\n",
       "      <td>mstephenson@fernandez.com</td>\n",
       "      <td>835 Frank Tunnel</td>\n",
       "      <td>NaN</td>\n",
       "      <td>NaN</td>\n",
       "      <td>NaN</td>\n",
       "      <td>NaN</td>\n",
       "      <td>NaN</td>\n",
       "      <td>NaN</td>\n",
       "    </tr>\n",
       "    <tr>\n",
       "      <th>1</th>\n",
       "      <td>Wrightmouth</td>\n",
       "      <td>MI 82180-9605\"</td>\n",
       "      <td>Violet</td>\n",
       "      <td>34.497268</td>\n",
       "      <td>12.655651</td>\n",
       "      <td>39.577668</td>\n",
       "      <td>4.082621</td>\n",
       "      <td>587.951054</td>\n",
       "    </tr>\n",
       "    <tr>\n",
       "      <th>2</th>\n",
       "      <td>hduke@hotmail.com</td>\n",
       "      <td>4547 Archer Common</td>\n",
       "      <td>NaN</td>\n",
       "      <td>NaN</td>\n",
       "      <td>NaN</td>\n",
       "      <td>NaN</td>\n",
       "      <td>NaN</td>\n",
       "      <td>NaN</td>\n",
       "    </tr>\n",
       "    <tr>\n",
       "      <th>3</th>\n",
       "      <td>Diazchester</td>\n",
       "      <td>CA 06566-8576\"</td>\n",
       "      <td>DarkGreen</td>\n",
       "      <td>31.926272</td>\n",
       "      <td>11.109461</td>\n",
       "      <td>37.268959</td>\n",
       "      <td>2.664034</td>\n",
       "      <td>392.204933</td>\n",
       "    </tr>\n",
       "    <tr>\n",
       "      <th>4</th>\n",
       "      <td>pallen@yahoo.com</td>\n",
       "      <td>24645 Valerie Unions Suite 582</td>\n",
       "      <td>NaN</td>\n",
       "      <td>NaN</td>\n",
       "      <td>NaN</td>\n",
       "      <td>NaN</td>\n",
       "      <td>NaN</td>\n",
       "      <td>NaN</td>\n",
       "    </tr>\n",
       "    <tr>\n",
       "      <th>...</th>\n",
       "      <td>...</td>\n",
       "      <td>...</td>\n",
       "      <td>...</td>\n",
       "      <td>...</td>\n",
       "      <td>...</td>\n",
       "      <td>...</td>\n",
       "      <td>...</td>\n",
       "      <td>...</td>\n",
       "    </tr>\n",
       "    <tr>\n",
       "      <th>995</th>\n",
       "      <td>South Chadburgh</td>\n",
       "      <td>TN 56128\"</td>\n",
       "      <td>Cornsilk</td>\n",
       "      <td>32.646777</td>\n",
       "      <td>11.499409</td>\n",
       "      <td>38.332576</td>\n",
       "      <td>4.958264</td>\n",
       "      <td>551.620145</td>\n",
       "    </tr>\n",
       "    <tr>\n",
       "      <th>996</th>\n",
       "      <td>cwilson@hotmail.com</td>\n",
       "      <td>680 Jennifer Lodge Apt. 808</td>\n",
       "      <td>NaN</td>\n",
       "      <td>NaN</td>\n",
       "      <td>NaN</td>\n",
       "      <td>NaN</td>\n",
       "      <td>NaN</td>\n",
       "      <td>NaN</td>\n",
       "    </tr>\n",
       "    <tr>\n",
       "      <th>997</th>\n",
       "      <td>Brendachester</td>\n",
       "      <td>TX 05000-5873\"</td>\n",
       "      <td>Teal</td>\n",
       "      <td>33.322501</td>\n",
       "      <td>12.391423</td>\n",
       "      <td>36.840086</td>\n",
       "      <td>2.336485</td>\n",
       "      <td>456.469510</td>\n",
       "    </tr>\n",
       "    <tr>\n",
       "      <th>998</th>\n",
       "      <td>hannahwilson@davidson.com</td>\n",
       "      <td>49791 Rachel Heights Apt. 898</td>\n",
       "      <td>NaN</td>\n",
       "      <td>NaN</td>\n",
       "      <td>NaN</td>\n",
       "      <td>NaN</td>\n",
       "      <td>NaN</td>\n",
       "      <td>NaN</td>\n",
       "    </tr>\n",
       "    <tr>\n",
       "      <th>999</th>\n",
       "      <td>East Drewborough</td>\n",
       "      <td>OR 55919-9528\"</td>\n",
       "      <td>DarkMagenta</td>\n",
       "      <td>33.715981</td>\n",
       "      <td>12.418808</td>\n",
       "      <td>35.771016</td>\n",
       "      <td>2.735160</td>\n",
       "      <td>497.778642</td>\n",
       "    </tr>\n",
       "  </tbody>\n",
       "</table>\n",
       "<p>1000 rows × 8 columns</p>\n",
       "</div>"
      ],
      "text/plain": [
       "                         Email                         Address       Avatar  \\\n",
       "0    mstephenson@fernandez.com                835 Frank Tunnel          NaN   \n",
       "1                  Wrightmouth                  MI 82180-9605\"       Violet   \n",
       "2            hduke@hotmail.com              4547 Archer Common          NaN   \n",
       "3                  Diazchester                  CA 06566-8576\"    DarkGreen   \n",
       "4             pallen@yahoo.com  24645 Valerie Unions Suite 582          NaN   \n",
       "..                         ...                             ...          ...   \n",
       "995            South Chadburgh                       TN 56128\"     Cornsilk   \n",
       "996        cwilson@hotmail.com     680 Jennifer Lodge Apt. 808          NaN   \n",
       "997              Brendachester                  TX 05000-5873\"         Teal   \n",
       "998  hannahwilson@davidson.com   49791 Rachel Heights Apt. 898          NaN   \n",
       "999           East Drewborough                  OR 55919-9528\"  DarkMagenta   \n",
       "\n",
       "     Avg. Session Length  Time on App  Time on Website  Length of Membership  \\\n",
       "0                    NaN          NaN              NaN                   NaN   \n",
       "1              34.497268    12.655651        39.577668              4.082621   \n",
       "2                    NaN          NaN              NaN                   NaN   \n",
       "3              31.926272    11.109461        37.268959              2.664034   \n",
       "4                    NaN          NaN              NaN                   NaN   \n",
       "..                   ...          ...              ...                   ...   \n",
       "995            32.646777    11.499409        38.332576              4.958264   \n",
       "996                  NaN          NaN              NaN                   NaN   \n",
       "997            33.322501    12.391423        36.840086              2.336485   \n",
       "998                  NaN          NaN              NaN                   NaN   \n",
       "999            33.715981    12.418808        35.771016              2.735160   \n",
       "\n",
       "     Yearly Amount Spent  \n",
       "0                    NaN  \n",
       "1             587.951054  \n",
       "2                    NaN  \n",
       "3             392.204933  \n",
       "4                    NaN  \n",
       "..                   ...  \n",
       "995           551.620145  \n",
       "996                  NaN  \n",
       "997           456.469510  \n",
       "998                  NaN  \n",
       "999           497.778642  \n",
       "\n",
       "[1000 rows x 8 columns]"
      ]
     },
     "execution_count": 39,
     "metadata": {},
     "output_type": "execute_result"
    }
   ],
   "source": [
    "df1"
   ]
  },
  {
   "cell_type": "markdown",
   "id": "e601346f",
   "metadata": {},
   "source": [
    "### Step_3: Feature Engineering/EDA"
   ]
  },
  {
   "cell_type": "markdown",
   "id": "82940093",
   "metadata": {},
   "source": [
    "#### A.Univariate Analysis"
   ]
  },
  {
   "cell_type": "markdown",
   "id": "5f37f2c3",
   "metadata": {},
   "source": [
    "There are no Categorical variable "
   ]
  },
  {
   "cell_type": "markdown",
   "id": "93bad6d0",
   "metadata": {},
   "source": [
    "Numerical Variables:{Avg. Session Length,Time on App,Time on Website,Length of Membership,Yearly Amount Spent}"
   ]
  },
  {
   "cell_type": "markdown",
   "id": "160b6d43",
   "metadata": {},
   "source": [
    "#### B. BiVariate Analysis"
   ]
  },
  {
   "cell_type": "markdown",
   "id": "88efdd39",
   "metadata": {},
   "source": [
    "#### C. Missing Values"
   ]
  },
  {
   "cell_type": "code",
   "execution_count": 40,
   "id": "9ae09e95",
   "metadata": {},
   "outputs": [
    {
     "data": {
      "text/plain": [
       "Email                     0\n",
       "Address                   0\n",
       "Avatar                  500\n",
       "Avg. Session Length     500\n",
       "Time on App             500\n",
       "Time on Website         500\n",
       "Length of Membership    500\n",
       "Yearly Amount Spent     546\n",
       "dtype: int64"
      ]
     },
     "execution_count": 40,
     "metadata": {},
     "output_type": "execute_result"
    }
   ],
   "source": [
    "df1.isnull().sum()"
   ]
  },
  {
   "cell_type": "code",
   "execution_count": 41,
   "id": "2b7c826d",
   "metadata": {},
   "outputs": [],
   "source": [
    "df=df1.dropna()"
   ]
  },
  {
   "cell_type": "code",
   "execution_count": 42,
   "id": "4e77f90d",
   "metadata": {},
   "outputs": [
    {
     "name": "stderr",
     "output_type": "stream",
     "text": [
      "C:\\Users\\Reshmi\\AppData\\Local\\Temp\\ipykernel_22444\\1373123939.py:1: SettingWithCopyWarning: \n",
      "A value is trying to be set on a copy of a slice from a DataFrame\n",
      "\n",
      "See the caveats in the documentation: https://pandas.pydata.org/pandas-docs/stable/user_guide/indexing.html#returning-a-view-versus-a-copy\n",
      "  df.drop(columns=['Email','Address','Avatar'],inplace=True) # droping the unnecesarry columns\n"
     ]
    }
   ],
   "source": [
    "df.drop(columns=['Email','Address','Avatar'],inplace=True) # droping the unnecesarry columns"
   ]
  },
  {
   "cell_type": "code",
   "execution_count": 43,
   "id": "68266c32",
   "metadata": {},
   "outputs": [
    {
     "data": {
      "text/html": [
       "<div>\n",
       "<style scoped>\n",
       "    .dataframe tbody tr th:only-of-type {\n",
       "        vertical-align: middle;\n",
       "    }\n",
       "\n",
       "    .dataframe tbody tr th {\n",
       "        vertical-align: top;\n",
       "    }\n",
       "\n",
       "    .dataframe thead th {\n",
       "        text-align: right;\n",
       "    }\n",
       "</style>\n",
       "<table border=\"1\" class=\"dataframe\">\n",
       "  <thead>\n",
       "    <tr style=\"text-align: right;\">\n",
       "      <th></th>\n",
       "      <th>Avg. Session Length</th>\n",
       "      <th>Time on App</th>\n",
       "      <th>Time on Website</th>\n",
       "      <th>Length of Membership</th>\n",
       "      <th>Yearly Amount Spent</th>\n",
       "    </tr>\n",
       "  </thead>\n",
       "  <tbody>\n",
       "    <tr>\n",
       "      <th>1</th>\n",
       "      <td>34.497268</td>\n",
       "      <td>12.655651</td>\n",
       "      <td>39.577668</td>\n",
       "      <td>4.082621</td>\n",
       "      <td>587.951054</td>\n",
       "    </tr>\n",
       "    <tr>\n",
       "      <th>3</th>\n",
       "      <td>31.926272</td>\n",
       "      <td>11.109461</td>\n",
       "      <td>37.268959</td>\n",
       "      <td>2.664034</td>\n",
       "      <td>392.204933</td>\n",
       "    </tr>\n",
       "    <tr>\n",
       "      <th>5</th>\n",
       "      <td>33.000915</td>\n",
       "      <td>11.330278</td>\n",
       "      <td>37.110597</td>\n",
       "      <td>4.104543</td>\n",
       "      <td>487.547505</td>\n",
       "    </tr>\n",
       "    <tr>\n",
       "      <th>7</th>\n",
       "      <td>34.305557</td>\n",
       "      <td>13.717514</td>\n",
       "      <td>36.721283</td>\n",
       "      <td>3.120179</td>\n",
       "      <td>581.852344</td>\n",
       "    </tr>\n",
       "    <tr>\n",
       "      <th>9</th>\n",
       "      <td>33.330673</td>\n",
       "      <td>12.795189</td>\n",
       "      <td>37.536653</td>\n",
       "      <td>4.446308</td>\n",
       "      <td>599.406092</td>\n",
       "    </tr>\n",
       "    <tr>\n",
       "      <th>...</th>\n",
       "      <td>...</td>\n",
       "      <td>...</td>\n",
       "      <td>...</td>\n",
       "      <td>...</td>\n",
       "      <td>...</td>\n",
       "    </tr>\n",
       "    <tr>\n",
       "      <th>991</th>\n",
       "      <td>33.237660</td>\n",
       "      <td>13.566160</td>\n",
       "      <td>36.417985</td>\n",
       "      <td>3.746573</td>\n",
       "      <td>573.847438</td>\n",
       "    </tr>\n",
       "    <tr>\n",
       "      <th>993</th>\n",
       "      <td>34.702529</td>\n",
       "      <td>11.695736</td>\n",
       "      <td>37.190268</td>\n",
       "      <td>3.576526</td>\n",
       "      <td>529.049004</td>\n",
       "    </tr>\n",
       "    <tr>\n",
       "      <th>995</th>\n",
       "      <td>32.646777</td>\n",
       "      <td>11.499409</td>\n",
       "      <td>38.332576</td>\n",
       "      <td>4.958264</td>\n",
       "      <td>551.620145</td>\n",
       "    </tr>\n",
       "    <tr>\n",
       "      <th>997</th>\n",
       "      <td>33.322501</td>\n",
       "      <td>12.391423</td>\n",
       "      <td>36.840086</td>\n",
       "      <td>2.336485</td>\n",
       "      <td>456.469510</td>\n",
       "    </tr>\n",
       "    <tr>\n",
       "      <th>999</th>\n",
       "      <td>33.715981</td>\n",
       "      <td>12.418808</td>\n",
       "      <td>35.771016</td>\n",
       "      <td>2.735160</td>\n",
       "      <td>497.778642</td>\n",
       "    </tr>\n",
       "  </tbody>\n",
       "</table>\n",
       "<p>454 rows × 5 columns</p>\n",
       "</div>"
      ],
      "text/plain": [
       "     Avg. Session Length  Time on App  Time on Website  Length of Membership  \\\n",
       "1              34.497268    12.655651        39.577668              4.082621   \n",
       "3              31.926272    11.109461        37.268959              2.664034   \n",
       "5              33.000915    11.330278        37.110597              4.104543   \n",
       "7              34.305557    13.717514        36.721283              3.120179   \n",
       "9              33.330673    12.795189        37.536653              4.446308   \n",
       "..                   ...          ...              ...                   ...   \n",
       "991            33.237660    13.566160        36.417985              3.746573   \n",
       "993            34.702529    11.695736        37.190268              3.576526   \n",
       "995            32.646777    11.499409        38.332576              4.958264   \n",
       "997            33.322501    12.391423        36.840086              2.336485   \n",
       "999            33.715981    12.418808        35.771016              2.735160   \n",
       "\n",
       "     Yearly Amount Spent  \n",
       "1             587.951054  \n",
       "3             392.204933  \n",
       "5             487.547505  \n",
       "7             581.852344  \n",
       "9             599.406092  \n",
       "..                   ...  \n",
       "991           573.847438  \n",
       "993           529.049004  \n",
       "995           551.620145  \n",
       "997           456.469510  \n",
       "999           497.778642  \n",
       "\n",
       "[454 rows x 5 columns]"
      ]
     },
     "execution_count": 43,
     "metadata": {},
     "output_type": "execute_result"
    }
   ],
   "source": [
    "df"
   ]
  },
  {
   "cell_type": "markdown",
   "id": "1d72cf45",
   "metadata": {},
   "source": [
    "#### D. Outliers"
   ]
  },
  {
   "cell_type": "markdown",
   "id": "bd6be07e",
   "metadata": {},
   "source": [
    "##### D.1  Checking "
   ]
  },
  {
   "cell_type": "code",
   "execution_count": 44,
   "id": "931f8aec",
   "metadata": {},
   "outputs": [
    {
     "data": {
      "text/html": [
       "<div>\n",
       "<style scoped>\n",
       "    .dataframe tbody tr th:only-of-type {\n",
       "        vertical-align: middle;\n",
       "    }\n",
       "\n",
       "    .dataframe tbody tr th {\n",
       "        vertical-align: top;\n",
       "    }\n",
       "\n",
       "    .dataframe thead th {\n",
       "        text-align: right;\n",
       "    }\n",
       "</style>\n",
       "<table border=\"1\" class=\"dataframe\">\n",
       "  <thead>\n",
       "    <tr style=\"text-align: right;\">\n",
       "      <th></th>\n",
       "      <th>count</th>\n",
       "      <th>mean</th>\n",
       "      <th>std</th>\n",
       "      <th>min</th>\n",
       "      <th>10%</th>\n",
       "      <th>20%</th>\n",
       "      <th>30%</th>\n",
       "      <th>40%</th>\n",
       "      <th>50%</th>\n",
       "      <th>60%</th>\n",
       "      <th>70%</th>\n",
       "      <th>80%</th>\n",
       "      <th>90%</th>\n",
       "      <th>95%</th>\n",
       "      <th>96%</th>\n",
       "      <th>97%</th>\n",
       "      <th>98%</th>\n",
       "      <th>99%</th>\n",
       "      <th>max</th>\n",
       "    </tr>\n",
       "  </thead>\n",
       "  <tbody>\n",
       "    <tr>\n",
       "      <th>Avg. Session Length</th>\n",
       "      <td>454.0</td>\n",
       "      <td>33.052615</td>\n",
       "      <td>0.997603</td>\n",
       "      <td>29.532429</td>\n",
       "      <td>31.823092</td>\n",
       "      <td>32.199569</td>\n",
       "      <td>32.490728</td>\n",
       "      <td>32.751986</td>\n",
       "      <td>33.082008</td>\n",
       "      <td>33.366880</td>\n",
       "      <td>33.590834</td>\n",
       "      <td>33.894598</td>\n",
       "      <td>34.342364</td>\n",
       "      <td>34.599440</td>\n",
       "      <td>34.701696</td>\n",
       "      <td>34.764301</td>\n",
       "      <td>34.965690</td>\n",
       "      <td>35.479103</td>\n",
       "      <td>36.139662</td>\n",
       "    </tr>\n",
       "    <tr>\n",
       "      <th>Time on App</th>\n",
       "      <td>454.0</td>\n",
       "      <td>12.041631</td>\n",
       "      <td>0.979870</td>\n",
       "      <td>8.508152</td>\n",
       "      <td>10.860207</td>\n",
       "      <td>11.200560</td>\n",
       "      <td>11.545731</td>\n",
       "      <td>11.764350</td>\n",
       "      <td>11.966439</td>\n",
       "      <td>12.274146</td>\n",
       "      <td>12.580060</td>\n",
       "      <td>12.931177</td>\n",
       "      <td>13.317878</td>\n",
       "      <td>13.669786</td>\n",
       "      <td>13.727886</td>\n",
       "      <td>13.891706</td>\n",
       "      <td>14.036851</td>\n",
       "      <td>14.252486</td>\n",
       "      <td>15.126994</td>\n",
       "    </tr>\n",
       "    <tr>\n",
       "      <th>Time on Website</th>\n",
       "      <td>454.0</td>\n",
       "      <td>37.052822</td>\n",
       "      <td>0.997863</td>\n",
       "      <td>34.476878</td>\n",
       "      <td>35.769836</td>\n",
       "      <td>36.166295</td>\n",
       "      <td>36.545422</td>\n",
       "      <td>36.838799</td>\n",
       "      <td>37.063155</td>\n",
       "      <td>37.303178</td>\n",
       "      <td>37.578971</td>\n",
       "      <td>37.855646</td>\n",
       "      <td>38.327498</td>\n",
       "      <td>38.765818</td>\n",
       "      <td>38.875401</td>\n",
       "      <td>38.969215</td>\n",
       "      <td>39.093843</td>\n",
       "      <td>39.272254</td>\n",
       "      <td>40.005182</td>\n",
       "    </tr>\n",
       "  </tbody>\n",
       "</table>\n",
       "</div>"
      ],
      "text/plain": [
       "                     count       mean       std        min        10%  \\\n",
       "Avg. Session Length  454.0  33.052615  0.997603  29.532429  31.823092   \n",
       "Time on App          454.0  12.041631  0.979870   8.508152  10.860207   \n",
       "Time on Website      454.0  37.052822  0.997863  34.476878  35.769836   \n",
       "\n",
       "                           20%        30%        40%        50%        60%  \\\n",
       "Avg. Session Length  32.199569  32.490728  32.751986  33.082008  33.366880   \n",
       "Time on App          11.200560  11.545731  11.764350  11.966439  12.274146   \n",
       "Time on Website      36.166295  36.545422  36.838799  37.063155  37.303178   \n",
       "\n",
       "                           70%        80%        90%        95%        96%  \\\n",
       "Avg. Session Length  33.590834  33.894598  34.342364  34.599440  34.701696   \n",
       "Time on App          12.580060  12.931177  13.317878  13.669786  13.727886   \n",
       "Time on Website      37.578971  37.855646  38.327498  38.765818  38.875401   \n",
       "\n",
       "                           97%        98%        99%        max  \n",
       "Avg. Session Length  34.764301  34.965690  35.479103  36.139662  \n",
       "Time on App          13.891706  14.036851  14.252486  15.126994  \n",
       "Time on Website      38.969215  39.093843  39.272254  40.005182  "
      ]
     },
     "execution_count": 44,
     "metadata": {},
     "output_type": "execute_result"
    }
   ],
   "source": [
    "df[['Avg. Session Length','Time on App','Time on Website']].describe(percentiles=[.1,.2,.3,.4,.5,.6,.7,.8,.9,.95,.96,.97,.98,.99]).T"
   ]
  },
  {
   "cell_type": "code",
   "execution_count": 45,
   "id": "da390090",
   "metadata": {},
   "outputs": [
    {
     "data": {
      "text/html": [
       "<div>\n",
       "<style scoped>\n",
       "    .dataframe tbody tr th:only-of-type {\n",
       "        vertical-align: middle;\n",
       "    }\n",
       "\n",
       "    .dataframe tbody tr th {\n",
       "        vertical-align: top;\n",
       "    }\n",
       "\n",
       "    .dataframe thead th {\n",
       "        text-align: right;\n",
       "    }\n",
       "</style>\n",
       "<table border=\"1\" class=\"dataframe\">\n",
       "  <thead>\n",
       "    <tr style=\"text-align: right;\">\n",
       "      <th></th>\n",
       "      <th>count</th>\n",
       "      <th>mean</th>\n",
       "      <th>std</th>\n",
       "      <th>min</th>\n",
       "      <th>10%</th>\n",
       "      <th>20%</th>\n",
       "      <th>30%</th>\n",
       "      <th>40%</th>\n",
       "      <th>50%</th>\n",
       "      <th>60%</th>\n",
       "      <th>70%</th>\n",
       "      <th>80%</th>\n",
       "      <th>90%</th>\n",
       "      <th>95%</th>\n",
       "      <th>96%</th>\n",
       "      <th>97%</th>\n",
       "      <th>98%</th>\n",
       "      <th>99%</th>\n",
       "      <th>max</th>\n",
       "    </tr>\n",
       "  </thead>\n",
       "  <tbody>\n",
       "    <tr>\n",
       "      <th>Avg. Session Length</th>\n",
       "      <td>454.0</td>\n",
       "      <td>33.052615</td>\n",
       "      <td>0.997603</td>\n",
       "      <td>29.532429</td>\n",
       "      <td>31.823092</td>\n",
       "      <td>32.199569</td>\n",
       "      <td>32.490728</td>\n",
       "      <td>32.751986</td>\n",
       "      <td>33.082008</td>\n",
       "      <td>33.366880</td>\n",
       "      <td>33.590834</td>\n",
       "      <td>33.894598</td>\n",
       "      <td>34.342364</td>\n",
       "      <td>34.599440</td>\n",
       "      <td>34.701696</td>\n",
       "      <td>34.764301</td>\n",
       "      <td>34.965690</td>\n",
       "      <td>35.479103</td>\n",
       "      <td>36.139662</td>\n",
       "    </tr>\n",
       "    <tr>\n",
       "      <th>Time on App</th>\n",
       "      <td>454.0</td>\n",
       "      <td>12.041631</td>\n",
       "      <td>0.979870</td>\n",
       "      <td>8.508152</td>\n",
       "      <td>10.860207</td>\n",
       "      <td>11.200560</td>\n",
       "      <td>11.545731</td>\n",
       "      <td>11.764350</td>\n",
       "      <td>11.966439</td>\n",
       "      <td>12.274146</td>\n",
       "      <td>12.580060</td>\n",
       "      <td>12.931177</td>\n",
       "      <td>13.317878</td>\n",
       "      <td>13.669786</td>\n",
       "      <td>13.727886</td>\n",
       "      <td>13.891706</td>\n",
       "      <td>14.036851</td>\n",
       "      <td>14.252486</td>\n",
       "      <td>15.126994</td>\n",
       "    </tr>\n",
       "    <tr>\n",
       "      <th>Time on Website</th>\n",
       "      <td>454.0</td>\n",
       "      <td>37.052822</td>\n",
       "      <td>0.997863</td>\n",
       "      <td>34.476878</td>\n",
       "      <td>35.769836</td>\n",
       "      <td>36.166295</td>\n",
       "      <td>36.545422</td>\n",
       "      <td>36.838799</td>\n",
       "      <td>37.063155</td>\n",
       "      <td>37.303178</td>\n",
       "      <td>37.578971</td>\n",
       "      <td>37.855646</td>\n",
       "      <td>38.327498</td>\n",
       "      <td>38.765818</td>\n",
       "      <td>38.875401</td>\n",
       "      <td>38.969215</td>\n",
       "      <td>39.093843</td>\n",
       "      <td>39.272254</td>\n",
       "      <td>40.005182</td>\n",
       "    </tr>\n",
       "    <tr>\n",
       "      <th>Length of Membership</th>\n",
       "      <td>454.0</td>\n",
       "      <td>3.546803</td>\n",
       "      <td>0.992032</td>\n",
       "      <td>0.269901</td>\n",
       "      <td>2.325331</td>\n",
       "      <td>2.787262</td>\n",
       "      <td>3.088521</td>\n",
       "      <td>3.345641</td>\n",
       "      <td>3.534332</td>\n",
       "      <td>3.800552</td>\n",
       "      <td>4.027978</td>\n",
       "      <td>4.350222</td>\n",
       "      <td>4.786133</td>\n",
       "      <td>5.094822</td>\n",
       "      <td>5.307197</td>\n",
       "      <td>5.408257</td>\n",
       "      <td>5.484568</td>\n",
       "      <td>5.769186</td>\n",
       "      <td>6.401229</td>\n",
       "    </tr>\n",
       "    <tr>\n",
       "      <th>Yearly Amount Spent</th>\n",
       "      <td>454.0</td>\n",
       "      <td>499.919858</td>\n",
       "      <td>78.325793</td>\n",
       "      <td>266.086341</td>\n",
       "      <td>404.121023</td>\n",
       "      <td>436.664630</td>\n",
       "      <td>461.765496</td>\n",
       "      <td>482.648171</td>\n",
       "      <td>498.887875</td>\n",
       "      <td>515.763548</td>\n",
       "      <td>537.827374</td>\n",
       "      <td>560.942709</td>\n",
       "      <td>593.132653</td>\n",
       "      <td>630.249840</td>\n",
       "      <td>640.536503</td>\n",
       "      <td>658.416081</td>\n",
       "      <td>665.986278</td>\n",
       "      <td>695.018463</td>\n",
       "      <td>765.518462</td>\n",
       "    </tr>\n",
       "  </tbody>\n",
       "</table>\n",
       "</div>"
      ],
      "text/plain": [
       "                      count        mean        std         min         10%  \\\n",
       "Avg. Session Length   454.0   33.052615   0.997603   29.532429   31.823092   \n",
       "Time on App           454.0   12.041631   0.979870    8.508152   10.860207   \n",
       "Time on Website       454.0   37.052822   0.997863   34.476878   35.769836   \n",
       "Length of Membership  454.0    3.546803   0.992032    0.269901    2.325331   \n",
       "Yearly Amount Spent   454.0  499.919858  78.325793  266.086341  404.121023   \n",
       "\n",
       "                             20%         30%         40%         50%  \\\n",
       "Avg. Session Length    32.199569   32.490728   32.751986   33.082008   \n",
       "Time on App            11.200560   11.545731   11.764350   11.966439   \n",
       "Time on Website        36.166295   36.545422   36.838799   37.063155   \n",
       "Length of Membership    2.787262    3.088521    3.345641    3.534332   \n",
       "Yearly Amount Spent   436.664630  461.765496  482.648171  498.887875   \n",
       "\n",
       "                             60%         70%         80%         90%  \\\n",
       "Avg. Session Length    33.366880   33.590834   33.894598   34.342364   \n",
       "Time on App            12.274146   12.580060   12.931177   13.317878   \n",
       "Time on Website        37.303178   37.578971   37.855646   38.327498   \n",
       "Length of Membership    3.800552    4.027978    4.350222    4.786133   \n",
       "Yearly Amount Spent   515.763548  537.827374  560.942709  593.132653   \n",
       "\n",
       "                             95%         96%         97%         98%  \\\n",
       "Avg. Session Length    34.599440   34.701696   34.764301   34.965690   \n",
       "Time on App            13.669786   13.727886   13.891706   14.036851   \n",
       "Time on Website        38.765818   38.875401   38.969215   39.093843   \n",
       "Length of Membership    5.094822    5.307197    5.408257    5.484568   \n",
       "Yearly Amount Spent   630.249840  640.536503  658.416081  665.986278   \n",
       "\n",
       "                             99%         max  \n",
       "Avg. Session Length    35.479103   36.139662  \n",
       "Time on App            14.252486   15.126994  \n",
       "Time on Website        39.272254   40.005182  \n",
       "Length of Membership    5.769186    6.401229  \n",
       "Yearly Amount Spent   695.018463  765.518462  "
      ]
     },
     "execution_count": 45,
     "metadata": {},
     "output_type": "execute_result"
    }
   ],
   "source": [
    "df.describe(percentiles=[.1,.2,.3,.4,.5,.6,.7,.8,.9,.95,.96,.97,.98,.99]).T"
   ]
  },
  {
   "cell_type": "markdown",
   "id": "5fcfbea1",
   "metadata": {},
   "source": [
    "###### as we can observe only one column Yearly Amount Spent is having outlier"
   ]
  },
  {
   "cell_type": "markdown",
   "id": "f3a95cc1",
   "metadata": {},
   "source": [
    "##### D.2  Treatment "
   ]
  },
  {
   "cell_type": "code",
   "execution_count": 46,
   "id": "2fd24692",
   "metadata": {},
   "outputs": [],
   "source": [
    "def outliers_percentile(x):\n",
    "    x=x.clip(upper=x.quantile(.99))\n",
    "#     x=x.clip(lower=x.quantile(.01))\n",
    "    return x"
   ]
  },
  {
   "cell_type": "code",
   "execution_count": 47,
   "id": "8acf2464",
   "metadata": {},
   "outputs": [],
   "source": [
    "df1=df.apply(outliers_percentile) # appling outliers function on out subset"
   ]
  },
  {
   "cell_type": "code",
   "execution_count": 48,
   "id": "2d1b66fa",
   "metadata": {},
   "outputs": [
    {
     "data": {
      "text/html": [
       "<div>\n",
       "<style scoped>\n",
       "    .dataframe tbody tr th:only-of-type {\n",
       "        vertical-align: middle;\n",
       "    }\n",
       "\n",
       "    .dataframe tbody tr th {\n",
       "        vertical-align: top;\n",
       "    }\n",
       "\n",
       "    .dataframe thead th {\n",
       "        text-align: right;\n",
       "    }\n",
       "</style>\n",
       "<table border=\"1\" class=\"dataframe\">\n",
       "  <thead>\n",
       "    <tr style=\"text-align: right;\">\n",
       "      <th></th>\n",
       "      <th>count</th>\n",
       "      <th>mean</th>\n",
       "      <th>std</th>\n",
       "      <th>min</th>\n",
       "      <th>10%</th>\n",
       "      <th>20%</th>\n",
       "      <th>30%</th>\n",
       "      <th>40%</th>\n",
       "      <th>50%</th>\n",
       "      <th>60%</th>\n",
       "      <th>70%</th>\n",
       "      <th>80%</th>\n",
       "      <th>90%</th>\n",
       "      <th>95%</th>\n",
       "      <th>96%</th>\n",
       "      <th>97%</th>\n",
       "      <th>98%</th>\n",
       "      <th>99%</th>\n",
       "      <th>max</th>\n",
       "    </tr>\n",
       "  </thead>\n",
       "  <tbody>\n",
       "    <tr>\n",
       "      <th>Avg. Session Length</th>\n",
       "      <td>454.0</td>\n",
       "      <td>33.049292</td>\n",
       "      <td>0.988708</td>\n",
       "      <td>29.532429</td>\n",
       "      <td>31.823092</td>\n",
       "      <td>32.199569</td>\n",
       "      <td>32.490728</td>\n",
       "      <td>32.751986</td>\n",
       "      <td>33.082008</td>\n",
       "      <td>33.366880</td>\n",
       "      <td>33.590834</td>\n",
       "      <td>33.894598</td>\n",
       "      <td>34.342364</td>\n",
       "      <td>34.599440</td>\n",
       "      <td>34.701696</td>\n",
       "      <td>34.764301</td>\n",
       "      <td>34.965690</td>\n",
       "      <td>35.454756</td>\n",
       "      <td>35.479103</td>\n",
       "    </tr>\n",
       "    <tr>\n",
       "      <th>Time on App</th>\n",
       "      <td>454.0</td>\n",
       "      <td>12.038063</td>\n",
       "      <td>0.970606</td>\n",
       "      <td>8.508152</td>\n",
       "      <td>10.860207</td>\n",
       "      <td>11.200560</td>\n",
       "      <td>11.545731</td>\n",
       "      <td>11.764350</td>\n",
       "      <td>11.966439</td>\n",
       "      <td>12.274146</td>\n",
       "      <td>12.580060</td>\n",
       "      <td>12.931177</td>\n",
       "      <td>13.317878</td>\n",
       "      <td>13.669786</td>\n",
       "      <td>13.727886</td>\n",
       "      <td>13.891706</td>\n",
       "      <td>14.036851</td>\n",
       "      <td>14.235787</td>\n",
       "      <td>14.252486</td>\n",
       "    </tr>\n",
       "    <tr>\n",
       "      <th>Time on Website</th>\n",
       "      <td>454.0</td>\n",
       "      <td>37.048882</td>\n",
       "      <td>0.988031</td>\n",
       "      <td>34.476878</td>\n",
       "      <td>35.769836</td>\n",
       "      <td>36.166295</td>\n",
       "      <td>36.545422</td>\n",
       "      <td>36.838799</td>\n",
       "      <td>37.063155</td>\n",
       "      <td>37.303178</td>\n",
       "      <td>37.578971</td>\n",
       "      <td>37.855646</td>\n",
       "      <td>38.327498</td>\n",
       "      <td>38.765818</td>\n",
       "      <td>38.875401</td>\n",
       "      <td>38.969215</td>\n",
       "      <td>39.093843</td>\n",
       "      <td>39.262013</td>\n",
       "      <td>39.272254</td>\n",
       "    </tr>\n",
       "    <tr>\n",
       "      <th>Length of Membership</th>\n",
       "      <td>454.0</td>\n",
       "      <td>3.543358</td>\n",
       "      <td>0.983516</td>\n",
       "      <td>0.269901</td>\n",
       "      <td>2.325331</td>\n",
       "      <td>2.787262</td>\n",
       "      <td>3.088521</td>\n",
       "      <td>3.345641</td>\n",
       "      <td>3.534332</td>\n",
       "      <td>3.800552</td>\n",
       "      <td>4.027978</td>\n",
       "      <td>4.350222</td>\n",
       "      <td>4.786133</td>\n",
       "      <td>5.094822</td>\n",
       "      <td>5.307197</td>\n",
       "      <td>5.408257</td>\n",
       "      <td>5.484568</td>\n",
       "      <td>5.735666</td>\n",
       "      <td>5.769186</td>\n",
       "    </tr>\n",
       "    <tr>\n",
       "      <th>Yearly Amount Spent</th>\n",
       "      <td>454.0</td>\n",
       "      <td>499.615321</td>\n",
       "      <td>77.469606</td>\n",
       "      <td>266.086341</td>\n",
       "      <td>404.121023</td>\n",
       "      <td>436.664630</td>\n",
       "      <td>461.765496</td>\n",
       "      <td>482.648171</td>\n",
       "      <td>498.887875</td>\n",
       "      <td>515.763548</td>\n",
       "      <td>537.827374</td>\n",
       "      <td>560.942709</td>\n",
       "      <td>593.132653</td>\n",
       "      <td>630.249840</td>\n",
       "      <td>640.536503</td>\n",
       "      <td>658.416081</td>\n",
       "      <td>665.986278</td>\n",
       "      <td>692.246108</td>\n",
       "      <td>695.018463</td>\n",
       "    </tr>\n",
       "  </tbody>\n",
       "</table>\n",
       "</div>"
      ],
      "text/plain": [
       "                      count        mean        std         min         10%  \\\n",
       "Avg. Session Length   454.0   33.049292   0.988708   29.532429   31.823092   \n",
       "Time on App           454.0   12.038063   0.970606    8.508152   10.860207   \n",
       "Time on Website       454.0   37.048882   0.988031   34.476878   35.769836   \n",
       "Length of Membership  454.0    3.543358   0.983516    0.269901    2.325331   \n",
       "Yearly Amount Spent   454.0  499.615321  77.469606  266.086341  404.121023   \n",
       "\n",
       "                             20%         30%         40%         50%  \\\n",
       "Avg. Session Length    32.199569   32.490728   32.751986   33.082008   \n",
       "Time on App            11.200560   11.545731   11.764350   11.966439   \n",
       "Time on Website        36.166295   36.545422   36.838799   37.063155   \n",
       "Length of Membership    2.787262    3.088521    3.345641    3.534332   \n",
       "Yearly Amount Spent   436.664630  461.765496  482.648171  498.887875   \n",
       "\n",
       "                             60%         70%         80%         90%  \\\n",
       "Avg. Session Length    33.366880   33.590834   33.894598   34.342364   \n",
       "Time on App            12.274146   12.580060   12.931177   13.317878   \n",
       "Time on Website        37.303178   37.578971   37.855646   38.327498   \n",
       "Length of Membership    3.800552    4.027978    4.350222    4.786133   \n",
       "Yearly Amount Spent   515.763548  537.827374  560.942709  593.132653   \n",
       "\n",
       "                             95%         96%         97%         98%  \\\n",
       "Avg. Session Length    34.599440   34.701696   34.764301   34.965690   \n",
       "Time on App            13.669786   13.727886   13.891706   14.036851   \n",
       "Time on Website        38.765818   38.875401   38.969215   39.093843   \n",
       "Length of Membership    5.094822    5.307197    5.408257    5.484568   \n",
       "Yearly Amount Spent   630.249840  640.536503  658.416081  665.986278   \n",
       "\n",
       "                             99%         max  \n",
       "Avg. Session Length    35.454756   35.479103  \n",
       "Time on App            14.235787   14.252486  \n",
       "Time on Website        39.262013   39.272254  \n",
       "Length of Membership    5.735666    5.769186  \n",
       "Yearly Amount Spent   692.246108  695.018463  "
      ]
     },
     "execution_count": 48,
     "metadata": {},
     "output_type": "execute_result"
    }
   ],
   "source": [
    "df1.describe(percentiles=[.1,.2,.3,.4,.5,.6,.7,.8,.9,.95,.96,.97,.98,.99]).T"
   ]
  },
  {
   "cell_type": "markdown",
   "id": "d0d86e6d",
   "metadata": {},
   "source": [
    "##### outlier has been Treated"
   ]
  },
  {
   "cell_type": "markdown",
   "id": "55178fbc",
   "metadata": {},
   "source": [
    "##### B. Bivariate Analysis"
   ]
  },
  {
   "cell_type": "markdown",
   "id": "3fca1712",
   "metadata": {},
   "source": [
    "#### Checking for Correlation"
   ]
  },
  {
   "cell_type": "code",
   "execution_count": 49,
   "id": "4c3fabc0",
   "metadata": {},
   "outputs": [
    {
     "data": {
      "image/png": "[encoded data removed]",
      "text/plain": [
       "<Figure size 576x432 with 2 Axes>"
      ]
     },
     "metadata": {
      "needs_background": "light"
     },
     "output_type": "display_data"
    }
   ],
   "source": [
    "cr=df1.corr()\n",
    "plt.figure(figsize=(8,6))\n",
    "sns.heatmap(cr,annot=True,cmap='coolwarm')\n",
    "plt.show()\n"
   ]
  },
  {
   "cell_type": "code",
   "execution_count": 50,
   "id": "4eaffe7e",
   "metadata": {},
   "outputs": [
    {
     "name": "stdout",
     "output_type": "stream",
     "text": [
      "                feature         VIF\n",
      "0           Time on App  103.622342\n",
      "1  Length of Membership   62.435073\n",
      "2   Yearly Amount Spent  269.278968\n"
     ]
    }
   ],
   "source": [
    "from statsmodels.stats.outliers_influence import variance_inflation_factor\n",
    "\n",
    "X = df1[['Time on App','Length of Membership','Yearly Amount Spent']]\n",
    "\n",
    "\n",
    "# VIF dataframe\n",
    "vif_data = pd.DataFrame()\n",
    "vif_data['feature'] = X.columns\n",
    "\n",
    "# calculating VIF for each feature\n",
    "vif_data['VIF'] = [variance_inflation_factor(X.values,i)\n",
    "                      for i in range(len(X.columns))]\n",
    "print(vif_data)"
   ]
  },
  {
   "cell_type": "markdown",
   "id": "ca2314d5",
   "metadata": {},
   "source": [
    "### Step_4: Model Development and Evaluation"
   ]
  },
  {
   "cell_type": "markdown",
   "id": "5ea7858d",
   "metadata": {},
   "source": [
    "#### Normality Test"
   ]
  },
  {
   "cell_type": "code",
   "execution_count": 51,
   "id": "71c09aac",
   "metadata": {},
   "outputs": [
    {
     "data": {
      "text/plain": [
       "ShapiroResult(statistic=0.9958285093307495, pvalue=0.2732488214969635)"
      ]
     },
     "execution_count": 51,
     "metadata": {},
     "output_type": "execute_result"
    }
   ],
   "source": [
    "from scipy.stats import shapiro\n",
    "shapiro(df1['Yearly Amount Spent'])"
   ]
  },
  {
   "cell_type": "code",
   "execution_count": 52,
   "id": "9ac1de70",
   "metadata": {},
   "outputs": [
    {
     "name": "stdout",
     "output_type": "stream",
     "text": [
      "ShapiroResult(statistic=0.9916672706604004, pvalue=0.01194063015282154)\n"
     ]
    },
    {
     "data": {
      "image/png": "[encoded data removed]",
      "text/plain": [
       "<Figure size 432x288 with 1 Axes>"
      ]
     },
     "metadata": {
      "needs_background": "light"
     },
     "output_type": "display_data"
    }
   ],
   "source": [
    "print(shapiro(np.sqrt(df1['Yearly Amount Spent'])))\n",
    "\n",
    "sns.histplot(np.sqrt(df1['Yearly Amount Spent']))\n",
    "plt.show()"
   ]
  },
  {
   "cell_type": "code",
   "execution_count": 53,
   "id": "161c5ee3",
   "metadata": {},
   "outputs": [
    {
     "name": "stdout",
     "output_type": "stream",
     "text": [
      "ShapiroResult(statistic=0.9885292053222656, pvalue=0.0012473680544644594)\n"
     ]
    },
    {
     "data": {
      "image/png": "[encoded data removed]",
      "text/plain": [
       "<Figure size 432x288 with 1 Axes>"
      ]
     },
     "metadata": {
      "needs_background": "light"
     },
     "output_type": "display_data"
    }
   ],
   "source": [
    "print(shapiro(np.cbrt(df1['Yearly Amount Spent'])))\n",
    "\n",
    "sns.histplot(np.cbrt(df1['Yearly Amount Spent']))\n",
    "plt.show()"
   ]
  },
  {
   "cell_type": "code",
   "execution_count": 54,
   "id": "9122472c",
   "metadata": {},
   "outputs": [
    {
     "name": "stdout",
     "output_type": "stream",
     "text": [
      "ShapiroResult(statistic=0.9795386791229248, pvalue=5.190315732761519e-06)\n"
     ]
    },
    {
     "data": {
      "image/png": "[encoded data removed]",
      "text/plain": [
       "<Figure size 432x288 with 1 Axes>"
      ]
     },
     "metadata": {
      "needs_background": "light"
     },
     "output_type": "display_data"
    }
   ],
   "source": [
    "print(shapiro(np.log1p(df1['Yearly Amount Spent'])))\n",
    "\n",
    "sns.histplot(np.log1p(df1['Yearly Amount Spent']))\n",
    "plt.show()"
   ]
  },
  {
   "cell_type": "code",
   "execution_count": 55,
   "id": "e2921f25",
   "metadata": {},
   "outputs": [
    {
     "name": "stdout",
     "output_type": "stream",
     "text": [
      "ShapiroResult(statistic=0.9503356218338013, pvalue=3.257943914647399e-11)\n"
     ]
    },
    {
     "data": {
      "image/png": "[encoded data removed]",
      "text/plain": [
       "<Figure size 432x288 with 1 Axes>"
      ]
     },
     "metadata": {
      "needs_background": "light"
     },
     "output_type": "display_data"
    }
   ],
   "source": [
    "print(shapiro(np.sinc(df1['Yearly Amount Spent'])))\n",
    "\n",
    "sns.histplot(np.sinc(df1['Yearly Amount Spent']))\n",
    "plt.show()"
   ]
  },
  {
   "cell_type": "markdown",
   "id": "856b442d",
   "metadata": {},
   "source": [
    "### Step_4 Model development\n",
    "* Seperate x, y\n",
    "* Split into Train and Test\n",
    "* run model on Train Data and validate on train and test ( MSE, RMSE, MAE, MAPE)\n"
   ]
  },
  {
   "cell_type": "code",
   "execution_count": 56,
   "id": "8c12e1d9",
   "metadata": {},
   "outputs": [],
   "source": [
    "x=df1[['Time on App','Length of Membership']]\n",
    "y=df1['Yearly Amount Spent'] "
   ]
  },
  {
   "cell_type": "code",
   "execution_count": 57,
   "id": "d537f367",
   "metadata": {},
   "outputs": [],
   "source": [
    "from sklearn.model_selection import train_test_split  # Train test split\n",
    "from sklearn.linear_model import LinearRegression     # Model development\n",
    "from sklearn import metrics  "
   ]
  },
  {
   "cell_type": "code",
   "execution_count": 58,
   "id": "1ced5ceb",
   "metadata": {},
   "outputs": [],
   "source": [
    "x_train, x_test, y_train, y_test=train_test_split(x,y, test_size=.25, \n",
    "                                                  random_state=0)"
   ]
  },
  {
   "cell_type": "code",
   "execution_count": 59,
   "id": "b2928c07",
   "metadata": {},
   "outputs": [
    {
     "data": {
      "text/plain": [
       "LinearRegression()"
      ]
     },
     "execution_count": 59,
     "metadata": {},
     "output_type": "execute_result"
    }
   ],
   "source": [
    "reg=LinearRegression() # what we have Called ie linearRegression , making it an object reg\n",
    "\n",
    "# Model made using this code\n",
    "\n",
    "reg.fit(x_train, y_train)"
   ]
  },
  {
   "cell_type": "code",
   "execution_count": 60,
   "id": "2f90b8a8",
   "metadata": {},
   "outputs": [
    {
     "data": {
      "text/plain": [
       "array([37.86687704, 63.24579762])"
      ]
     },
     "execution_count": 60,
     "metadata": {},
     "output_type": "execute_result"
    }
   ],
   "source": [
    "reg.coef_ # these are m values we call them weights here"
   ]
  },
  {
   "cell_type": "code",
   "execution_count": 61,
   "id": "bfd8999b",
   "metadata": {},
   "outputs": [
    {
     "data": {
      "text/plain": [
       "-180.5514005843886"
      ]
     },
     "execution_count": 61,
     "metadata": {},
     "output_type": "execute_result"
    }
   ],
   "source": [
    "reg.intercept_ # this is c values "
   ]
  },
  {
   "cell_type": "code",
   "execution_count": 62,
   "id": "7548cccc",
   "metadata": {},
   "outputs": [
    {
     "name": "stdout",
     "output_type": "stream",
     "text": [
      "Train R^2 :  0.8758041591878594\n"
     ]
    }
   ],
   "source": [
    "print(\"Train R^2 : \", reg.score(x_train, y_train))"
   ]
  },
  {
   "cell_type": "code",
   "execution_count": 63,
   "id": "d9e0efca",
   "metadata": {},
   "outputs": [
    {
     "name": "stdout",
     "output_type": "stream",
     "text": [
      "Test R^2 :  0.8641551288330767\n"
     ]
    }
   ],
   "source": [
    "print(\"Test R^2 : \", reg.score(x_test, y_test))"
   ]
  },
  {
   "cell_type": "markdown",
   "id": "92b4fe05",
   "metadata": {},
   "source": [
    "#### So R^2 for Train Data is 87.58% and Test Data is 86.41% "
   ]
  },
  {
   "cell_type": "code",
   "execution_count": 64,
   "id": "ed3690e9",
   "metadata": {},
   "outputs": [
    {
     "data": {
      "text/plain": [
       "array([454.54437685, 541.15696388, 614.86102387, 465.11697792,\n",
       "       517.23872354, 520.19078726, 510.32710885, 506.54645067,\n",
       "       409.86457294, 450.53949065, 462.76184872, 522.79528519,\n",
       "       532.28886922, 482.10577895, 535.1912322 , 501.52156258,\n",
       "       470.30869068, 408.61814958, 558.00532452, 538.18889957,\n",
       "       615.7002774 , 490.77110841, 487.5798024 , 423.12319589,\n",
       "       543.37857139, 438.89612415, 540.93448272, 515.736014  ,\n",
       "       351.82494623, 368.0936495 , 577.27827652, 498.26661983,\n",
       "       402.41033095, 511.98441779, 528.11673106, 413.82488118,\n",
       "       587.52155951, 401.99943794, 353.64340548, 554.73628633,\n",
       "       383.31525178, 463.80446141, 257.88485378, 472.39912745,\n",
       "       515.87373548, 470.02028703, 580.00606468, 457.05811528,\n",
       "       413.02897726, 583.41311893, 392.85479866, 562.32094409,\n",
       "       462.69743571, 546.16436591, 582.43901304, 423.07333611,\n",
       "       506.95129159, 455.06275845, 438.79638374, 448.5898737 ,\n",
       "       508.47462689, 529.08627616, 615.85480532, 553.29467815,\n",
       "       395.21944696, 514.48255358, 435.2219779 , 531.82482104,\n",
       "       519.00179863, 351.00690985, 415.38666298, 495.30354825,\n",
       "       585.24460186, 515.08248431, 434.17460217, 656.56708139,\n",
       "       449.8795497 , 500.28528572, 512.74375799, 533.52301435,\n",
       "       428.41642356, 483.87215908, 541.92927188, 497.02451911,\n",
       "       416.54583589, 433.0465411 , 456.52928697, 555.81832733,\n",
       "       485.32282724, 597.93078573, 487.08462202, 643.05504161,\n",
       "       594.34874198, 494.03466282, 441.37336029, 466.03190879,\n",
       "       572.44269837, 585.17274708, 355.53975057, 586.30763171,\n",
       "       475.95167527, 681.15776732, 481.56845119, 381.78128268,\n",
       "       622.31194714, 377.81514207, 494.27894986, 576.3855248 ,\n",
       "       533.37444225, 521.93847924, 446.37005962, 521.31539909,\n",
       "       433.82828427, 495.9526848 ])"
      ]
     },
     "execution_count": 64,
     "metadata": {},
     "output_type": "execute_result"
    }
   ],
   "source": [
    "pred_test=reg.predict(x_test)\n",
    "pred_test"
   ]
  },
  {
   "cell_type": "code",
   "execution_count": 65,
   "id": "51ada88a",
   "metadata": {},
   "outputs": [
    {
     "data": {
      "text/plain": [
       "array([597.51373101, 439.53033617, 488.3946266 , 427.45658231,\n",
       "       596.63381521, 547.88125071, 639.84319345, 477.63731388,\n",
       "       503.70523914, 524.21929463, 436.36797015, 699.25592166,\n",
       "       464.44146536, 505.21988457, 529.82461989, 582.74049976,\n",
       "       444.94470223, 480.7782801 , 506.94126808, 379.99302706,\n",
       "       462.85068253, 474.58710517, 479.45294009, 488.52984179,\n",
       "       521.83048187, 457.11026031, 517.171187  , 471.00911389,\n",
       "       507.30258452, 546.63775891, 480.22848238, 572.45860177,\n",
       "       448.69046446, 523.57094224, 543.2587555 , 520.24820493,\n",
       "       559.28113186, 492.12815467, 421.18100038, 479.71303693,\n",
       "       502.64864233, 538.74027488, 668.51861058, 536.30249111,\n",
       "       493.37044086, 462.73116091, 616.8841733 , 479.54179514,\n",
       "       529.18166364, 532.787818  , 471.32600365, 544.31243325,\n",
       "       617.9842719 , 532.73889439, 522.20532252, 572.88209713,\n",
       "       555.02289502, 455.6733332 , 540.75099566, 407.31180106,\n",
       "       520.88195132, 399.33201701, 491.61013382, 563.88436912,\n",
       "       523.05762587, 555.61583413, 667.07984291, 442.91594987,\n",
       "       435.76618094, 558.72998301, 528.47826202, 497.65300137,\n",
       "       607.06316199, 514.20328074, 398.18330126, 601.10108021,\n",
       "       406.26444823, 556.37800868, 612.22407317, 507.4942954 ,\n",
       "       542.14549166, 607.74062766, 483.66650277, 489.2434902 ,\n",
       "       494.20123758, 550.38913031, 570.11169345, 675.29828692,\n",
       "       559.18323242, 546.02675295, 439.72180391, 515.99378901,\n",
       "       342.73226959, 648.5426644 , 416.59759977, 548.38881817,\n",
       "       472.6629258 , 521.98866937, 661.10067158, 498.24737546,\n",
       "       434.06496535, 480.24233611, 457.32298708, 496.4968962 ,\n",
       "       531.94853492, 399.75271775, 396.20295766, 472.80772817,\n",
       "       490.50985782, 530.54843656, 475.16484495, 434.04465955,\n",
       "       486.14939829, 521.38865097, 559.61862815, 586.38749019,\n",
       "       381.41305254, 666.98366668, 487.92392856, 433.96187345,\n",
       "       504.61278858, 604.10509611, 549.17726888, 617.5746392 ,\n",
       "       459.09733622, 520.88835856, 508.08595419, 531.87206965,\n",
       "       630.86285802, 537.95361173, 507.67235247, 515.14130963,\n",
       "       598.20114538, 543.62765552, 489.68227439, 582.21585898,\n",
       "       494.44326603, 558.80822304, 478.53753972, 521.20190736,\n",
       "       404.82841109, 420.35758027, 373.38192243, 569.84569097,\n",
       "       546.00941832, 463.81215748, 527.25949964, 533.6887802 ,\n",
       "       479.09825867, 498.43691958, 411.03823365, 483.32562167,\n",
       "       517.97886648, 568.30435825, 316.70243895, 466.1415773 ,\n",
       "       471.25265357, 435.11309991, 532.63266693, 529.53896094,\n",
       "       514.7892793 , 462.1205124 , 545.46667335, 500.1135775 ,\n",
       "       505.19155332, 513.93284342, 528.68591589, 568.48469978,\n",
       "       480.04176534, 441.39590523, 314.99101229, 558.66813653,\n",
       "       606.25639564, 496.41126242, 426.34052613, 643.84378371,\n",
       "       350.23779897, 504.77541488, 358.43587716, 428.5118525 ,\n",
       "       451.74802109, 643.42703527, 524.54079417, 437.1215439 ,\n",
       "       507.21321914, 521.0009571 , 498.09784549, 480.9283858 ,\n",
       "       536.22619854, 481.75155475, 503.92600195, 609.80882673,\n",
       "       386.44414983, 513.87169946, 468.30417268, 514.56130663,\n",
       "       487.30233506, 628.55945578, 411.82025811, 465.70154559,\n",
       "       539.41433215, 499.46624856, 567.56737651, 545.8879262 ,\n",
       "       402.24652699, 475.1191811 , 459.49575989, 484.21509775,\n",
       "       497.75875997, 549.71567029, 506.77841551, 467.77592797,\n",
       "       453.34300767, 336.81952098, 586.035145  , 489.40802994,\n",
       "       596.68917982, 522.21548505, 564.35972694, 362.08934801,\n",
       "       536.17912716, 540.03832966, 356.12092043, 392.98136926,\n",
       "       531.29065763, 572.47463869, 421.09195913, 556.88718369,\n",
       "       482.46281522, 462.28839996, 408.51412717, 366.71435597,\n",
       "       348.25787202, 489.9057762 , 470.25815327, 516.0403252 ,\n",
       "       429.90902923, 460.4956321 , 501.7380069 , 602.37816653,\n",
       "       606.96630088, 473.50590633, 429.31094868, 497.74764444,\n",
       "       491.49644695, 532.30032668, 548.97557329, 636.68766537,\n",
       "       548.32805593, 662.3600947 , 535.81765976, 481.78086781,\n",
       "       653.38937121, 459.00553808, 436.44592667, 437.83364992,\n",
       "       407.36902719, 428.32227091, 428.63247856, 495.37490767,\n",
       "       559.7160539 , 562.21477173, 552.90529693, 468.14345967,\n",
       "       587.80174778, 460.9217178 , 493.46683324, 440.85648919,\n",
       "       485.16076559, 401.0270132 , 589.00247248, 513.05224873,\n",
       "       311.97929239, 709.08693851, 534.58820076, 552.65371206,\n",
       "       391.5879937 , 417.49593218, 408.23261012, 562.4635089 ,\n",
       "       576.37901965, 477.32224356, 294.6747034 , 400.55885474,\n",
       "       562.91358722, 502.24429313, 414.21071386, 491.86156692,\n",
       "       551.84581037, 370.6919358 , 624.7969011 , 461.9809438 ,\n",
       "       490.53648005, 559.41987421, 501.81193734, 534.12563718,\n",
       "       446.43962417, 484.29904489, 592.55228408, 401.72661979,\n",
       "       477.8372281 , 583.9336235 , 690.67003151, 566.46908007,\n",
       "       448.41099571, 471.13480287, 497.54540561, 486.33804311,\n",
       "       537.26040757, 380.04423097, 473.16473608, 494.29594297,\n",
       "       462.31611721, 397.92690151, 450.5822018 , 494.09201445,\n",
       "       414.94034603, 446.20442851, 544.22980718, 572.10412966,\n",
       "       571.42718305, 433.22198012, 429.57556505, 401.05369777,\n",
       "       500.07250685, 488.98888336, 452.6265043 , 504.37559467,\n",
       "       624.01907295, 459.643863  , 413.3424876 , 490.4379987 ,\n",
       "       583.94078531, 491.05189911, 525.2816392 , 443.02454255,\n",
       "       559.39844332, 404.22944427, 530.02417713, 362.09347553])"
      ]
     },
     "execution_count": 65,
     "metadata": {},
     "output_type": "execute_result"
    }
   ],
   "source": [
    "pred_train=reg.predict(x_train)\n",
    "pred_train"
   ]
  },
  {
   "cell_type": "code",
   "execution_count": 66,
   "id": "949d4223",
   "metadata": {},
   "outputs": [
    {
     "name": "stdout",
     "output_type": "stream",
     "text": [
      "Train MSE 748.9253795625061\n",
      "Train rmse 27.36650104712888\n",
      "Train MAE 22.139422663502067\n",
      "Train MAPE 0.04556421665878439\n"
     ]
    }
   ],
   "source": [
    "print(\"Train MSE\", np.mean((pred_train-y_train)**(2)))\n",
    "print(\"Train rmse\", np.sqrt(np.mean((pred_train-y_train)**(2))))\n",
    "print(\"Train MAE\",  np.mean(np.abs(pred_train-y_train)))\n",
    "print(\"Train MAPE\",  np.mean(np.abs((pred_train-y_train)/y_train)))"
   ]
  },
  {
   "cell_type": "code",
   "execution_count": 67,
   "id": "327a0061",
   "metadata": {},
   "outputs": [
    {
     "name": "stdout",
     "output_type": "stream",
     "text": [
      "Test MSE 791.2404160534865\n",
      "Test rmse 28.12899600151926\n",
      "Test MAE 22.641614437688116\n",
      "Test MAPE 0.04735138179286618\n"
     ]
    }
   ],
   "source": [
    "print(\"Test MSE\", np.mean((pred_test-y_test)**(2)))\n",
    "print(\"Test rmse\", np.sqrt(np.mean((pred_test-y_test)**(2))))\n",
    "print(\"Test MAE\",  np.mean(np.abs(pred_test-y_test)))\n",
    "print(\"Test MAPE\",  np.mean(np.abs((pred_test-y_test)/y_test)))"
   ]
  },
  {
   "cell_type": "markdown",
   "id": "16048342",
   "metadata": {},
   "source": [
    "### It means this model is underfit\n",
    "* test value > train value\n"
   ]
  },
  {
   "cell_type": "code",
   "execution_count": null,
   "id": "9882fa20",
   "metadata": {},
   "outputs": [],
   "source": []
  }
 ],
 "metadata": {
  "kernelspec": {
   "display_name": "Python 3 (ipykernel)",
   "language": "python",
   "name": "python3"
  },
  "language_info": {
   "codemirror_mode": {
    "name": "ipython",
    "version": 3
   },
   "file_extension": ".py",
   "mimetype": "text/x-python",
   "name": "python",
   "nbconvert_exporter": "python",
   "pygments_lexer": "ipython3",
   "version": "3.9.12"
  }
 },
 "nbformat": 4,
 "nbformat_minor": 5
}
